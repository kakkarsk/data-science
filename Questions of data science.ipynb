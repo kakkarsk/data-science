{
 "cells": [
  {
   "cell_type": "markdown",
   "metadata": {},
   "source": [
    "Question 1 : You work at an e-commerce company that sells three goods: widgets, doodads, and fizzbangs. The head of advertising asks you which they should feature in their new advertising campaign. You have data on individual visitors' sessions (activity on a website, pageviews, and purchases), as well as whether or not those users converted from an advertisement for that session. You also have the cost and price information for the goods.\n",
    "\n",
    "Answer 1: As a growing company and good capitalizing , our main focus should be to maximaze the profit as mucha as we can.So, we should look for expecting profit for each scenario . cost and data will allow us to maximize the profit for \n",
    "each item if we calculate each-item -profit.\n",
    "\n",
    "So, let's denote an example by expecting how much profit we can earn from each item \n",
    "let EP= Estimate profit\n",
    "EP(widget)= profit(widget)sales(widget|widget)+profit(doodads)sales(doodads|doodads)+profit(fizzbangs)sales(fizzbangs|fizzbangs)\n",
    "and sales is the(*|#)is the expected number of sales during the season.\n",
    "\n",
    "I feel the more should be the calculated number of profits per item , it will be more number of sales. not just focusing on one fizzbangs.\n",
    "\n",
    "Question 2 :You work at a web design company that offers to build websites for clients. Signups have slowed, and you are tasked with finding out why. The onboarding funnel has three steps: email and password signup, plan choice, and payment. On a user level you have information on what steps they have completed as well as timestamps for all of those events for the past 3 years. You also have information on marketing spend on a weekly level.\n",
    "\n",
    "Answer 2: Let's see how we are getting these clients first , are they more words of mouths, referrals or from online, \n",
    "let's suppose these are from online advertisement of our company and first step is to find how we are loosing them , is it because of the number of forms they are finding it complicated to fill out, or our customer team is not able to help them out,and which step are we loosing them out of all three , \n",
    "\n",
    "according to our data I think out of all three steps we are loosing people at the final step of payement because of the prices (and our prices are commensurate with our competition, I checked) and figures out they just can't afford it and sometimes in some of the dat i feel people are having complication while filling up and there are our customer service needs to be trained more.\n",
    "\n",
    "I really do think talking to the people defeated by the website would be the shortest route to the straight dope on website\n",
    "difficulties, and ensuing improvements.\n",
    "\n",
    "Question 3: You work at a hotel website and currently the website ranks search results by price. For simplicity's sake, let's say it's a website for one city with 100 hotels. You are tasked with proposing a better ranking system. You have session information, price information for the hotels, and whether each hotel is currently available.\n",
    "\n",
    "Answer 3: Firstly, they should be catogrized according to the needs of people, likewise people should see rooms not as a hotel.\n",
    "\n",
    "secondly, they should be provided with the amenities and according to that they should rank the room and cateogrized them with beds, kitchen \n",
    "\n",
    "Third they should eliminate the room with wrong smoking prefrence and unavailbale rooms as well, and they should categorized if the hotel is huge with two builduings , they should be confirming the needs of the people with old and new builduing.\n",
    "\n",
    "And more importantlt it should be a good parameter essential,\" \"important,\" \"desirable,\" \"nice,\" or\n",
    "\"unimportant,\" and assign weights for those factors in rating possible available rooms.\n",
    "\n",
    "The final rating determining ordering would be a weighted average of how well the room meets the user definied criteria.\n",
    "\n",
    "Question 4: You work at a social network, and the management is worried about churn (users stopping using the product). You are tasked with finding out if their churn is atypical. You have three years of data for users with an entry for every time they've logged in, including the timestamp and length of session.\n",
    "\n",
    "Answer 4: Firstly, we need to establish a atime frame where we can see from dashboard ,how many time a user check-in the profile and according to that data, how is he feeling , \n",
    "\n",
    "An up-front time period needs to be established during which a usual level of account activity is established.Because it will be hard to find every activity , lets take the example for three months and find out the activity .\n",
    "\n",
    "The distribution is important, because we need to establish a one-size-fits-all criterion for churn detection.\n",
    "\n",
    "establish a typical number of hours per week by user, and then detect three consecutive deviations from the pattern for user churn"
   ]
  }
 ],
 "metadata": {
  "kernelspec": {
   "display_name": "Python 3",
   "language": "python",
   "name": "python3"
  },
  "language_info": {
   "codemirror_mode": {
    "name": "ipython",
    "version": 3
   },
   "file_extension": ".py",
   "mimetype": "text/x-python",
   "name": "python",
   "nbconvert_exporter": "python",
   "pygments_lexer": "ipython3",
   "version": "3.6.5"
  }
 },
 "nbformat": 4,
 "nbformat_minor": 2
}
